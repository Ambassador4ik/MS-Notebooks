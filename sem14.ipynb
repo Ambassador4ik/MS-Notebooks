{
 "cells": [
  {
   "cell_type": "markdown",
   "metadata": {},
   "source": [
    "## Семинар 14"
   ]
  },
  {
   "cell_type": "markdown",
   "metadata": {},
   "source": [
    "$$\\rho_{12;3} = \\frac{\\rho_{12} - \\rho_{13}\\rho_{23}}{\\sqrt{(1 - \\rho^2_{13})(1 - \\rho^2_{23})}}$$\n",
    "$\\rho_{12;3} < \\rho_{12}$ => связь между величинами частично обусловлена 3й величиной\\\n",
    "$\\rho_{12;3} \\to 0$ => связь между величинами полностью обусловлена 3й величиной\\\n",
    "$\\rho_{12;3} \\to 1$ => связь между величинами никак не обусловлена 3й величиной"
   ]
  },
  {
   "cell_type": "markdown",
   "metadata": {},
   "source": [
    "### Задача 1"
   ]
  },
  {
   "cell_type": "markdown",
   "metadata": {},
   "source": [
    "В некоторой области Англии исследовалось влияние погоды на урожай. Рассматривалось три показателя: урожай сена в центнерах на акр ($X_1$), весеннее количество осадков в дюймах ($X_2$) и накопленная за весну температура выше 42 градусов по Фаренгейту ($X_3$). По данным двадцатилетних наблюдений были вычислены реализации выборочных коэффициентов корреляции:\n",
    "$$\\hat \\rho_{12} = 0.8; \\hat \\rho_{13} = −0.4; \\hat \\rho_{23} = −0.56$$\n",
    "\n",
    "Проверьте гипотезу о некоррелированности показателей $X_1$ и $X_3$ против альтернативы\n",
    "об их отрицательной коррелированности.\\\n",
    "Оценить частные коэффициенты корреляции $\\hat \\rho_{12;3}$, $\\hat \\rho_{13;2}$ и $\\hat \\rho_{23;1}$. \n",
    "Проверьте гипотезу о том, что частный коэффициент корреляции $\\rho_{13;2}$ равен нулю. Прокомментировать полученный результат."
   ]
  },
  {
   "cell_type": "markdown",
   "metadata": {},
   "source": [
    "#### Проверка гипотезы о некоррелированности"
   ]
  },
  {
   "cell_type": "markdown",
   "metadata": {},
   "source": [
    "Установим гипотезы:\n",
    "- $H_0: \\rho_{13} = 0$\n",
    "- $H_a: \\rho_{13} < 0$\n",
    "\n",
    "Вычислим t-статистику:\n",
    "$$t = \\frac{\\hat\\rho_{13} \\sqrt{n - 2}}{\\sqrt{1 - \\hat\\rho^2_{13}}} = \\frac{-0.4 \\sqrt{18}}{\\sqrt{1 - 0.16}} \\approx -1.85$$\n",
    "Найдем квантиль распределения Стьюдента на уровне значимости $0.05$ с $18$ степенями свободы - он равен примерно $-1.734$.\\\n",
    "Так как $t = -1.85 < -1.734$, мы отвергаем $H_0$ в пользу альтернативы $H_a$, что означает отрицательную корреляцию $X_1$ и $X_3$."
   ]
  },
  {
   "cell_type": "markdown",
   "metadata": {},
   "source": [
    "#### Рассчет частных коэффициентов корреляции"
   ]
  },
  {
   "cell_type": "code",
   "execution_count": 1,
   "metadata": {},
   "outputs": [
    {
     "data": {
      "text/plain": [
       "(0.7585674494892168, 0.09656090991705363, -0.43643578047198484)"
      ]
     },
     "execution_count": 1,
     "metadata": {},
     "output_type": "execute_result"
    }
   ],
   "source": [
    "import numpy as np\n",
    "\n",
    "def partial_corr(r12, r13, r23):\n",
    "    \"\"\"\n",
    "    Calculate the partial correlation coefficient \\hat{\\rho}_{12;3} using the given correlation coefficients.\n",
    "\n",
    "    Parameters:\n",
    "    r12 : float\n",
    "        Correlation coefficient between X1 and X2.\n",
    "    r13 : float\n",
    "        Correlation coefficient between X1 and X3.\n",
    "    r23 : float\n",
    "        Correlation coefficient between X2 and X3.\n",
    "\n",
    "    Returns:\n",
    "    float\n",
    "        Partial correlation coefficient \\hat{\\rho}_{12;3}.\n",
    "    \"\"\"\n",
    "    numerator = r12 - r13 * r23\n",
    "    denominator = np.sqrt((1 - r13 ** 2) * (1 - r23 ** 2))\n",
    "    r12_3 = numerator / denominator\n",
    "\n",
    "    return r12_3\n",
    "\n",
    "r12 = 0.8\n",
    "r13 = -0.4\n",
    "r23 = -0.56\n",
    "\n",
    "rho_12_3 = partial_corr(r12, r13, r23)\n",
    "rho_13_2 = partial_corr(r13, r12, r23)\n",
    "rho_23_1 = partial_corr(r23, r12, r13)\n",
    "\n",
    "rho_12_3, rho_13_2, rho_23_1"
   ]
  },
  {
   "cell_type": "markdown",
   "metadata": {},
   "source": [
    "$$\\hat\\rho_{12;3} = \\frac{\\hat\\rho_{12} - \\hat\\rho_{13}\\hat\\rho_{23}}{\\sqrt{(1 - \\hat\\rho^2_{13})(1 - \\hat\\rho^2_{23})}} = \\frac{0.8 - (-0.4)(-0.56)}{\\sqrt{(1 - (-0.4)^2)(1 - (-0.56)^2)}} \\approx 0.759$$\n",
    "$$\\hat\\rho_{13;2} = \\frac{\\hat\\rho_{13} - \\hat\\rho_{12}\\hat\\rho_{23}}{\\sqrt{(1 - \\hat\\rho^2_{12})(1 - \\hat\\rho^2_{23})}} \\approx 0.097 \\approx 0 \\neq -0.4$$\n",
    "$$\\hat\\rho_{23;1} = \\frac{\\hat\\rho_{23} - \\hat\\rho_{12}\\hat\\rho_{13}}{\\sqrt{(1 - \\hat\\rho^2_{12})(1 - \\hat\\rho^2_{13})}} \\approx -0.436$$"
   ]
  },
  {
   "cell_type": "markdown",
   "metadata": {},
   "source": [
    "#### Проверка гипотезы о частной корреляции"
   ]
  },
  {
   "cell_type": "markdown",
   "metadata": {},
   "source": [
    "Установим гипотезы:\n",
    "- $H_0: \\rho_{13;2} = 0$\n",
    "- $H_a: \\rho_{13;2} \\neq 0$\n",
    "\n",
    "Рассчитаем t-статистику ($d$ - количество факторов):\n",
    "$$t = \\frac{\\hat\\rho_{13;2} \\sqrt{n - 2 - d}}{\\sqrt{1 - \\hat\\rho^2_{13;2}}} = \\frac{0.097 \\sqrt{20 - 2 - 1}}{\\sqrt{1 - 0.097^2}} \\approx 0.402$$\n",
    "Найдем квантиль распределения Стьюдента на уровне значимости $0.05$ (для двустороннего теста) с $17$ степенями свободы - он равен примерно $2.110$.\\\n",
    "Так как $|t| = 0.402 < 2.110$, у нас нет достаточных оснований отвергнуть $H_0$, и мы принимаем $\\rho_{13;2} = 0$"
   ]
  },
  {
   "cell_type": "markdown",
   "metadata": {},
   "source": [
    "### Задача 2"
   ]
  },
  {
   "cell_type": "markdown",
   "metadata": {},
   "source": [
    "Автосалон предоставил сведения о продажной цене ($X_1$), ширине ($X_2$), длине ($X_3$) и\n",
    "массе ($X_4$) автомобиля. За последний месяц было продано 34 автомобиля. На основании\n",
    "этих данных вычислены выборочные коэффициенты корреляции: \n",
    "$$\\hat \\rho_{12} = 0.33, \\hat \\rho_{13} = 0.16, \\hat \\rho_{14} = 0.53, \\hat \\rho_{23} = 0.71, \\hat \\rho_{24} = 0.72, \\hat \\rho_{34} = 0.63$$\n",
    "Оценить множественный коэффициент корреляции $R_{1(2,3,4)}$ между продажной ценой\n",
    "автомобиля и совокупностью его трех технических характеристик, описывающих\n",
    "длину, высоту и массу. Проверить гипотезу о том, что $R_{1(2,3,4)} = 0$, предполагая, что\n",
    "данные имеют гауссовское распределение. Прокомментировать полученный результат."
   ]
  },
  {
   "cell_type": "markdown",
   "metadata": {},
   "source": [
    "Множественный коэф. корреляции:\n",
    "$$\\R_{1(2,3,4)} = \\sqrt{1 - \\frac{\\det \\R}{\\R_{11}}}$$"
   ]
  },
  {
   "cell_type": "markdown",
   "metadata": {},
   "source": [
    "Матрица корреляции:\n",
    "$$\\R = \n",
    "\\begin{pmatrix}\n",
    "    1 && \\hat\\rho_{12} && \\hat\\rho_{13} && \\hat\\rho_{14}\\\\\n",
    "    \\hat\\rho_{12} && 1 && \\hat\\rho_{23} && \\hat\\rho_{24}\\\\\n",
    "    \\hat\\rho_{13} && \\hat\\rho_{23} && 1 && \\hat\\rho_{34}\\\\\n",
    "    \\hat\\rho_{14} && \\hat\\rho_{24} && \\hat\\rho_{34} && 1\\\\\n",
    "\\end{pmatrix} = \n",
    "\\begin{pmatrix}\n",
    "    1 && 0.33 && 0.16 && 0.53\\\\\n",
    "    0.33 && 1 && 0.71 && 0.72\\\\\n",
    "    0.16 && 0.71 && 1 && 0.63\\\\\n",
    "    0.53 && 0.72 && 0.63 && 1\\\\\n",
    "\\end{pmatrix}\n",
    "$$"
   ]
  },
  {
   "cell_type": "markdown",
   "metadata": {},
   "source": [
    "Алгебраическое дополнение:\n",
    "$$\\R_{11} =\n",
    "\\begin{pmatrix}\n",
    "    1 && 0.71 && 0.72\\\\\n",
    "    0.71 && 1 && 0.63\\\\\n",
    "    0.72 && 0.63 && 1\\\\\n",
    "\\end{pmatrix}\n",
    "$$"
   ]
  },
  {
   "cell_type": "code",
   "execution_count": 7,
   "metadata": {},
   "outputs": [
    {
     "data": {
      "text/plain": [
       "(0.15002191999999998, 0.224712)"
      ]
     },
     "execution_count": 7,
     "metadata": {},
     "output_type": "execute_result"
    }
   ],
   "source": [
    "R = np.array([[1, 0.33, 0.16, 0.53],\n",
    "    [0.33, 1, 0.71, 0.72],\n",
    "    [0.16, 0.71, 1, 0.63],\n",
    "    [0.53, 0.72, 0.63, 1]])\n",
    "\n",
    "R11 = np.array([[1, 0.71, 0.72],\n",
    "    [0.71, 1, 0.63],\n",
    "    [0.72, 0.63, 1]])\n",
    "\n",
    "det_R = np.linalg.det(R)\n",
    "det_R11 = np.linalg.det(R11)\n",
    "\n",
    "det_R, det_R11"
   ]
  },
  {
   "cell_type": "markdown",
   "metadata": {},
   "source": [
    "Определитель матрицы корреляции:\n",
    "$$\\det \\R \\approx 0.15$$"
   ]
  },
  {
   "cell_type": "markdown",
   "metadata": {},
   "source": [
    "Алгебраическое дополнение:\n",
    "$$\\det \\R_{11} \\approx 0.225$$"
   ]
  },
  {
   "cell_type": "code",
   "execution_count": 9,
   "metadata": {},
   "outputs": [
    {
     "data": {
      "text/plain": [
       "0.5765252459788318"
      ]
     },
     "execution_count": 9,
     "metadata": {},
     "output_type": "execute_result"
    }
   ],
   "source": [
    "res = np.sqrt(1 - (det_R / det_R11))\n",
    "res"
   ]
  },
  {
   "cell_type": "markdown",
   "metadata": {},
   "source": [
    "$$\\R_{1(2,3,4)} = \\sqrt{1 - \\frac{0.15}{0.225}} \\approx 0.5765$$"
   ]
  },
  {
   "cell_type": "markdown",
   "metadata": {},
   "source": [
    "### Задача 3"
   ]
  },
  {
   "cell_type": "markdown",
   "metadata": {},
   "source": [
    "Три квалифицированных эксперта $A$, $B$ и $C$ проранжировали в порядке предпочтения\n",
    "семь представленных бизнес-проектов.\\\n",
    "Результаты представлены в таблице.\n",
    "\n",
    "|   | 1 | 2 | 3 | 4 | 5 | 6 | 7 |\n",
    "|---|---|---|---|---|---|---|---|\n",
    "| A | 1 | 4 | 2 | 5 | 3 | 7 | 6 |\n",
    "| B | 2 | 1 | 3 | 4 | 5 | 6 | 7 |\n",
    "| C | 2 | 1 | 4 | 5 | 3 | 7 | 6 |\n",
    "\n",
    "Можно ли считать, что данная экспертная группа обладает общей системой\n",
    "предпочтений?"
   ]
  },
  {
   "cell_type": "markdown",
   "metadata": {},
   "source": []
  }
 ],
 "metadata": {
  "kernelspec": {
   "display_name": "Python 3",
   "language": "python",
   "name": "python3"
  },
  "language_info": {
   "codemirror_mode": {
    "name": "ipython",
    "version": 3
   },
   "file_extension": ".py",
   "mimetype": "text/x-python",
   "name": "python",
   "nbconvert_exporter": "python",
   "pygments_lexer": "ipython3",
   "version": "3.10.11"
  }
 },
 "nbformat": 4,
 "nbformat_minor": 2
}
