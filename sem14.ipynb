{
    "cells":[
     {
      "cell_type":"markdown",
      "source":[
       "# Семинар 14"
      ],
      "attachments":{},
      "metadata":{
       "datalore":{
        "node_id":"Iab5tHZNQGXBvsPKXMNEKC",
        "type":"MD",
        "hide_input_from_viewers":true,
        "hide_output_from_viewers":true
       }
      }
     },
     {
      "cell_type":"markdown",
      "source":[
       "$$\\rho_{12;3} = \\frac{\\rho_{12} - \\rho_{13}\\rho_{23}}{\\sqrt{(1 - \\rho^2_{13})(1 - \\rho^2_{23})}}$$\n",
       "$\\rho_{12;3} < \\rho_{12}$ => связь между величинами частично обусловлена 3й величиной\\\n",
       "$\\rho_{12;3} \\to 0$ => связь между величинами полностью обусловлена 3й величиной\\\n",
       "$\\rho_{12;3} \\to 1$ => связь между величинами никак не обусловлена 3й величиной"
      ],
      "attachments":{},
      "metadata":{
       "datalore":{
        "node_id":"cfIq0hxKtHye3CWzP2RwHV",
        "type":"MD",
        "hide_input_from_viewers":true,
        "hide_output_from_viewers":true
       }
      }
     },
     {
      "cell_type":"markdown",
      "source":[
       "### Задача 1"
      ],
      "attachments":{},
      "metadata":{
       "datalore":{
        "node_id":"GGxiFiF2oDDIsMtlXfDhSz",
        "type":"MD",
        "hide_input_from_viewers":true,
        "hide_output_from_viewers":true
       }
      }
     },
     {
      "cell_type":"markdown",
      "source":[
       "В некоторой области Англии исследовалось влияние погоды на урожай. Рассматривалось три показателя: урожай сена в центнерах на акр ($X_1$), весеннее количество осадков в дюймах ($X_2$) и накопленная за весну температура выше 42 градусов по Фаренгейту ($X_3$). По данным двадцатилетних наблюдений были вычислены реализации выборочных коэффициентов корреляции:\n",
       "$$\\hat \\rho_{12} = 0.8; \\hat \\rho_{13} = −0.4; \\hat \\rho_{23} = −0.56$$\n",
       "\n",
       "Проверьте гипотезу о некоррелированности показателей $X_1$ и $X_3$ против альтернативы\n",
       "об их отрицательной коррелированности.\\\n",
       "Оценить частные коэффициенты корреляции $\\hat \\rho_{12;3}$, $\\hat \\rho_{13;2}$ и $\\hat \\rho_{23;1}$. \n",
       "Проверьте гипотезу о том, что частный коэффициент корреляции $\\rho_{13;2}$ равен нулю. Прокомментировать полученный результат."
      ],
      "attachments":{},
      "metadata":{
       "datalore":{
        "node_id":"lByJ2MVMSUyxCHaOqRTGUt",
        "type":"MD",
        "hide_input_from_viewers":true,
        "hide_output_from_viewers":true
       }
      }
     },
     {
      "cell_type":"markdown",
      "source":[
       "#### Проверка гипотезы о некоррелированности"
      ],
      "attachments":{},
      "metadata":{
       "datalore":{
        "node_id":"rJ5IaxELYLVJIsofGZXM8P",
        "type":"MD",
        "hide_input_from_viewers":true,
        "hide_output_from_viewers":true
       }
      }
     },
     {
      "cell_type":"markdown",
      "source":[
       "Установим гипотезы:\n",
       "- $H_0: \\rho_{13} = 0$\n",
       "- $H_a: \\rho_{13} < 0$\n",
       "\n",
       "Вычислим t-статистику:\n",
       "$$t = \\frac{\\hat\\rho_{13} \\sqrt{n - 2}}{\\sqrt{1 - \\hat\\rho^2_{13}}} = \\frac{-0.4 \\sqrt{18}}{\\sqrt{1 - 0.16}} \\approx -1.85$$\n",
       "Найдем квантиль распределения Стьюдента на уровне значимости $0.05$ с $18$ степенями свободы - он равен примерно $-1.734$.\\\n",
       "Так как $t = -1.85 < -1.734$, мы отвергаем $H_0$ в пользу альтернативы $H_a$, что означает отрицательную корреляцию $X_1$ и $X_3$."
      ],
      "attachments":{},
      "metadata":{
       "datalore":{
        "node_id":"hJ7Cwr2RoAEAz2nxPAv38l",
        "type":"MD",
        "hide_input_from_viewers":true,
        "hide_output_from_viewers":true
       }
      }
     },
     {
      "cell_type":"markdown",
      "source":[
       "#### Рассчет частных коэффициентов корреляции"
      ],
      "attachments":{},
      "metadata":{
       "datalore":{
        "node_id":"ZAibY4q4WjHidyWkACrzMF",
        "type":"MD",
        "hide_input_from_viewers":true,
        "hide_output_from_viewers":true
       }
      }
     },
     {
      "cell_type":"code",
      "source":[
       "import numpy as np\n",
       "\n",
       "def partial_corr(r12, r13, r23):\n",
       "    \"\"\"\n",
       "    Calculate the partial correlation coefficient \\hat{\\rho}_{12;3} using the given correlation coefficients.\n",
       "\n",
       "    Parameters:\n",
       "    r12 : float\n",
       "        Correlation coefficient between X1 and X2.\n",
       "    r13 : float\n",
       "        Correlation coefficient between X1 and X3.\n",
       "    r23 : float\n",
       "        Correlation coefficient between X2 and X3.\n",
       "\n",
       "    Returns:\n",
       "    float\n",
       "        Partial correlation coefficient \\hat{\\rho}_{12;3}.\n",
       "    \"\"\"\n",
       "    numerator = r12 - r13 * r23\n",
       "    denominator = np.sqrt((1 - r13 ** 2) * (1 - r23 ** 2))\n",
       "    r12_3 = numerator \/ denominator\n",
       "\n",
       "    return r12_3\n",
       "\n",
       "r12 = 0.8\n",
       "r13 = -0.4\n",
       "r23 = -0.56\n",
       "\n",
       "rho_12_3 = partial_corr(r12, r13, r23)\n",
       "rho_13_2 = partial_corr(r13, r12, r23)\n",
       "rho_23_1 = partial_corr(r23, r12, r13)\n",
       "\n",
       "rho_12_3, rho_13_2, rho_23_1"
      ],
      "execution_count":8,
      "outputs":[
       {
        "data":{
         "text\/plain":[
          "(0.7585674494892168, 0.09656090991705363, -0.43643578047198484)"
         ]
        },
        "metadata":{},
        "output_type":"display_data"
       }
      ],
      "metadata":{
       "datalore":{
        "node_id":"s4sVSOsypbREt6eHzVU6Gx",
        "type":"CODE",
        "hide_input_from_viewers":true,
        "hide_output_from_viewers":true
       }
      }
     },
     {
      "cell_type":"markdown",
      "source":[
       "$$\\hat\\rho_{12;3} = \\frac{\\hat\\rho_{12} - \\hat\\rho_{13}\\hat\\rho_{23}}{\\sqrt{(1 - \\hat\\rho^2_{13})(1 - \\hat\\rho^2_{23})}} = \\frac{0.8 - (-0.4)(-0.56)}{\\sqrt{(1 - (-0.4)^2)(1 - (-0.56)^2)}} \\approx 0.759$$\n",
       "$$\\hat\\rho_{13;2} = \\frac{\\hat\\rho_{13} - \\hat\\rho_{12}\\hat\\rho_{23}}{\\sqrt{(1 - \\hat\\rho^2_{12})(1 - \\hat\\rho^2_{23})}} \\approx 0.097 \\approx 0 \\neq -0.4$$\n",
       "$$\\hat\\rho_{23;1} = \\frac{\\hat\\rho_{23} - \\hat\\rho_{12}\\hat\\rho_{13}}{\\sqrt{(1 - \\hat\\rho^2_{12})(1 - \\hat\\rho^2_{13})}} \\approx -0.436$$"
      ],
      "attachments":{},
      "metadata":{
       "datalore":{
        "node_id":"kv8NRk9lOnmjFfR72N638l",
        "type":"MD",
        "hide_input_from_viewers":true,
        "hide_output_from_viewers":true
       }
      }
     },
     {
      "cell_type":"markdown",
      "source":[
       "#### Проверка гипотезы о частной корреляции"
      ],
      "attachments":{},
      "metadata":{
       "datalore":{
        "node_id":"9xUzyReU9WLy0RfSYSrLZy",
        "type":"MD",
        "hide_input_from_viewers":true,
        "hide_output_from_viewers":true
       }
      }
     },
     {
      "cell_type":"markdown",
      "source":[
       "Установим гипотезы:\n",
       "- $H_0: \\rho_{13;2} = 0$\n",
       "- $H_a: \\rho_{13;2} \\neq 0$\n",
       "\n",
       "Рассчитаем t-статистику ($d$ - количество факторов):\n",
       "$$t = \\frac{\\hat\\rho_{13;2} \\sqrt{n - 2 - d}}{\\sqrt{1 - \\hat\\rho^2_{13;2}}} = \\frac{0.097 \\sqrt{20 - 2 - 1}}{\\sqrt{1 - 0.097^2}} \\approx 0.402$$\n",
       "Найдем квантиль распределения Стьюдента на уровне значимости $0.05$ (для двустороннего теста) с $17$ степенями свободы - он равен примерно $2.110$.\\\n",
       "Так как $|t| = 0.402 < 2.110$, у нас нет достаточных оснований отвергнуть $H_0$, и мы принимаем $\\rho_{13;2} = 0$"
      ],
      "attachments":{},
      "metadata":{
       "datalore":{
        "node_id":"MrD6vFXyE3rFqNGLM47uxu",
        "type":"MD",
        "hide_input_from_viewers":true,
        "hide_output_from_viewers":true
       }
      }
     },
     {
      "cell_type":"markdown",
      "source":[
       "### Задача 2"
      ],
      "attachments":{},
      "metadata":{
       "datalore":{
        "node_id":"Ac43WIl3UVn8Sw871J8ixE",
        "type":"MD",
        "hide_input_from_viewers":true,
        "hide_output_from_viewers":true
       }
      }
     },
     {
      "cell_type":"markdown",
      "source":[
       "Автосалон предоставил сведения о продажной цене ($X_1$), ширине ($X_2$), длине ($X_3$) и\n",
       "массе ($X_4$) автомобиля. За последний месяц было продано 34 автомобиля. На основании\n",
       "этих данных вычислены выборочные коэффициенты корреляции: \n",
       "$$\\hat \\rho_{12} = 0.33, \\hat \\rho_{13} = 0.16, \\hat \\rho_{14} = 0.53, \\hat \\rho_{23} = 0.71, \\hat \\rho_{24} = 0.72, \\hat \\rho_{34} = 0.63$$\n",
       "Оценить множественный коэффициент корреляции $R_{1(2,3,4)}$ между продажной ценой\n",
       "автомобиля и совокупностью его трех технических характеристик, описывающих\n",
       "длину, высоту и массу. Проверить гипотезу о том, что $R_{1(2,3,4)} = 0$, предполагая, что\n",
       "данные имеют гауссовское распределение. Прокомментировать полученный результат."
      ],
      "attachments":{},
      "metadata":{
       "datalore":{
        "node_id":"i3TERPQZXMLMH706vjd7lS",
        "type":"MD",
        "hide_input_from_viewers":true,
        "hide_output_from_viewers":true
       }
      }
     },
     {
      "cell_type":"markdown",
      "source":[
       "Множественный коэф. корреляции:\n",
       "$$\\mathbb{R}_{1(2,3,4)} = \\sqrt{1 - \\frac{\\det \\mathbb{R}}{\\mathbb{R}_{11}}}$$"
      ],
      "attachments":{},
      "metadata":{
       "datalore":{
        "node_id":"uexal6xOm2oVsFXBnaEbvB",
        "type":"MD",
        "hide_input_from_viewers":true,
        "hide_output_from_viewers":true
       }
      }
     },
     {
      "cell_type":"markdown",
      "source":[
       "Матрица корреляции:\n",
       "$$\\mathbb{R} = \n",
       "\\begin{pmatrix}\n",
       "    1 && \\hat\\rho_{12} && \\hat\\rho_{13} && \\hat\\rho_{14}\\\\\n",
       "    \\hat\\rho_{12} && 1 && \\hat\\rho_{23} && \\hat\\rho_{24}\\\\\n",
       "    \\hat\\rho_{13} && \\hat\\rho_{23} && 1 && \\hat\\rho_{34}\\\\\n",
       "    \\hat\\rho_{14} && \\hat\\rho_{24} && \\hat\\rho_{34} && 1\\\\\n",
       "\\end{pmatrix} = \n",
       "\\begin{pmatrix}\n",
       "    1 && 0.33 && 0.16 && 0.53\\\\\n",
       "    0.33 && 1 && 0.71 && 0.72\\\\\n",
       "    0.16 && 0.71 && 1 && 0.63\\\\\n",
       "    0.53 && 0.72 && 0.63 && 1\\\\\n",
       "\\end{pmatrix}\n",
       "$$"
      ],
      "attachments":{},
      "metadata":{
       "datalore":{
        "node_id":"1DYXEVCmujLuJOIhFYmHNm",
        "type":"MD",
        "hide_input_from_viewers":true,
        "hide_output_from_viewers":true
       }
      }
     },
     {
      "cell_type":"markdown",
      "source":[
       "Дополнительная матрица:\n",
       "$$\\mathbb{R}_{11} =\n",
       "\\begin{pmatrix}\n",
       "    1 && 0.71 && 0.72\\\\\n",
       "    0.71 && 1 && 0.63\\\\\n",
       "    0.72 && 0.63 && 1\\\\\n",
       "\\end{pmatrix}\n",
       "$$"
      ],
      "attachments":{},
      "metadata":{
       "datalore":{
        "node_id":"UozfGSJhwblfQ9nr7A5nnR",
        "type":"MD",
        "hide_input_from_viewers":true,
        "hide_output_from_viewers":true
       }
      }
     },
     {
      "cell_type":"code",
      "source":[
       "R = np.array(\n",
       "    [[1, 0.33, 0.16, 0.53],\n",
       "    [0.33, 1, 0.71, 0.72],\n",
       "    [0.16, 0.71, 1, 0.63],\n",
       "    [0.53, 0.72, 0.63, 1]])\n",
       "\n",
       "R11 = np.array(\n",
       "    [[1, 0.71, 0.72],\n",
       "    [0.71, 1, 0.63],\n",
       "    [0.72, 0.63, 1]])\n",
       "\n",
       "det_R = np.linalg.det(R)\n",
       "det_R11 = np.linalg.det(R11)\n",
       "\n",
       "det_R, det_R11"
      ],
      "execution_count":17,
      "outputs":[
       {
        "data":{
         "text\/plain":[
          "(0.15002191999999998, 0.224712)"
         ]
        },
        "metadata":{},
        "output_type":"display_data"
       }
      ],
      "metadata":{
       "datalore":{
        "node_id":"xj0vnTOlWaLCny5wDiDCk5",
        "type":"CODE",
        "hide_input_from_viewers":true,
        "hide_output_from_viewers":true
       }
      }
     },
     {
      "cell_type":"markdown",
      "source":[
       "Определитель матрицы корреляции:\n",
       "$$\\det \\mathbb{R} \\approx 0.15$$"
      ],
      "attachments":{},
      "metadata":{
       "datalore":{
        "node_id":"nsZ06YCV3wTazpz51Jb3tH",
        "type":"MD",
        "hide_input_from_viewers":true,
        "hide_output_from_viewers":true
       }
      }
     },
     {
      "cell_type":"markdown",
      "source":[
       "Алгебраическое дополнение:\n",
       "$$\\mathbb{R} \\approx 0.025$$"
      ],
      "attachments":{},
      "metadata":{
       "datalore":{
        "node_id":"B6rGQKCT2xfZvXjw9Uu2ka",
        "type":"MD",
        "hide_input_from_viewers":true,
        "hide_output_from_viewers":true
       }
      }
     },
     {
      "cell_type":"code",
      "source":[
       "res = np.sqrt(1 - (det_R \/ det_R11))\n",
       "res"
      ],
      "execution_count":20,
      "outputs":[
       {
        "data":{
         "text\/plain":[
          "0.5765252459788318"
         ]
        },
        "metadata":{},
        "output_type":"display_data"
       }
      ],
      "metadata":{
       "datalore":{
        "node_id":"qbJTP5fzU8axPguxetg6Ez",
        "type":"CODE",
        "hide_input_from_viewers":true,
        "hide_output_from_viewers":true
       }
      }
     },
     {
      "cell_type":"markdown",
      "source":[
       "$$\\mathbb{R}_{1(2,3,4)} = \\sqrt{1 - \\frac{0.15}{0.225}} \\approx 0.5765$$"
      ],
      "attachments":{},
      "metadata":{
       "datalore":{
        "node_id":"brlDt4jLGIR7g7a7aEIyyy",
        "type":"MD",
        "hide_input_from_viewers":true,
        "hide_output_from_viewers":true
       }
      }
     },
     {
      "cell_type":"markdown",
      "source":[
       "Проверим гипотезу:\n",
       "- $H_0: R_{1(2,3,4)} = 0$\n",
       "- $H_a: R_{1(2,3,4)} \\neq 0$"
      ],
      "attachments":{},
      "metadata":{
       "datalore":{
        "node_id":"udCIbfP5wqb3l1TzPbtsKv",
        "type":"MD",
        "hide_input_from_viewers":true,
        "hide_output_from_viewers":true
       }
      }
     },
     {
      "cell_type":"code",
      "source":[
       "res_squared = 1 - (det_R \/ det_R11)\n",
       "res_squared"
      ],
      "execution_count":23,
      "outputs":[
       {
        "data":{
         "text\/plain":[
          "0.33238135925095247"
         ]
        },
        "metadata":{},
        "output_type":"display_data"
       }
      ],
      "metadata":{
       "datalore":{
        "node_id":"I3BvxmjQrk3mkkQCDeAjKR",
        "type":"CODE",
        "hide_input_from_viewers":true,
        "hide_output_from_viewers":true
       }
      }
     },
     {
      "cell_type":"code",
      "source":[
       "f_statistics = (1\/3 * res_squared) \/ (1\/30 * (1 - res_squared))\n",
       "f_statistics"
      ],
      "execution_count":24,
      "outputs":[
       {
        "data":{
         "text\/plain":[
          "4.978611125627511"
         ]
        },
        "metadata":{},
        "output_type":"display_data"
       }
      ],
      "metadata":{
       "datalore":{
        "node_id":"7VUFXP8APxeyTEK597iikr",
        "type":"CODE",
        "hide_input_from_viewers":true,
        "hide_output_from_viewers":true
       }
      }
     },
     {
      "cell_type":"markdown",
      "source":[
       "Критерий Фишера:\n",
       "$$F = \\frac{\\frac{1}{l - 1} R^2_{1(2,3,4)}}{\\frac{1}{n - l} (1 - R^2_{1(2,3,4)})} = \\frac{\\frac{1}{4 - 1} \\cdot 0.332}{\\frac{1}{34 - 4} (1 - 0.332)} \\approx 4.979 \\sim F(l - 1; n - 1)$$"
      ],
      "attachments":{},
      "metadata":{
       "datalore":{
        "node_id":"HaeYdbAsBIQxtMrfJIggLb",
        "type":"MD",
        "hide_input_from_viewers":true,
        "hide_output_from_viewers":true
       }
      }
     },
     {
      "cell_type":"code",
      "source":[
       "import scipy.stats as stats\n",
       "\n",
       "alpha = 0.05\n",
       "df1 = 3\n",
       "df2 = 30\n",
       "\n",
       "f_crit = stats.f.ppf(1 - alpha, df1, df2)\n",
       "f_crit"
      ],
      "execution_count":26,
      "outputs":[
       {
        "data":{
         "text\/plain":[
          "2.9222771906450378"
         ]
        },
        "metadata":{},
        "output_type":"display_data"
       }
      ],
      "metadata":{
       "datalore":{
        "node_id":"2nqm8jKWaOWwdHDlnWIxBE",
        "type":"CODE",
        "hide_input_from_viewers":true,
        "hide_output_from_viewers":true
       }
      }
     },
     {
      "cell_type":"markdown",
      "source":[
       "$$F_{crit} = F(3, 30) \\approx 2.92$$\n",
       "$$F > F_{crit}$$"
      ],
      "attachments":{},
      "metadata":{
       "datalore":{
        "node_id":"qQlAFj1fR2gqUKI3Ql5Lc8",
        "type":"MD",
        "hide_input_from_viewers":true,
        "hide_output_from_viewers":true
       }
      }
     },
     {
      "cell_type":"markdown",
      "source":[
       "На уровне значимости $\\alpha = 0.05$ мы отвергаем нулевую гипотезу о равенстве множественного коэффициента корреляции нулю. Таким образом, существует статистически значимая связь между продажной ценой автомобиля и его техническими характеристиками."
      ],
      "attachments":{},
      "metadata":{
       "datalore":{
        "node_id":"oBirP6wARiXUJ9Yiem4CR9",
        "type":"MD",
        "hide_input_from_viewers":true,
        "hide_output_from_viewers":true
       }
      }
     },
     {
      "cell_type":"markdown",
      "source":[
       "### Задача 3"
      ],
      "attachments":{},
      "metadata":{
       "datalore":{
        "node_id":"QBWQy1fBdZGQWDSkORMclt",
        "type":"MD",
        "hide_input_from_viewers":true,
        "hide_output_from_viewers":true
       }
      }
     },
     {
      "cell_type":"markdown",
      "source":[
       "Три квалифицированных эксперта $A$, $B$ и $C$ проранжировали в порядке предпочтения\n",
       "семь представленных бизнес-проектов.\\\n",
       "Результаты представлены в таблице.\n",
       "\n",
       "|   | 1 | 2 | 3 | 4 | 5 | 6 | 7 |\n",
       "|---|---|---|---|---|---|---|---|\n",
       "| A | 1 | 4 | 2 | 5 | 3 | 7 | 6 |\n",
       "| B | 2 | 1 | 3 | 4 | 5 | 6 | 7 |\n",
       "| C | 2 | 1 | 4 | 5 | 3 | 7 | 6 |\n",
       "\n",
       "Можно ли считать, что данная экспертная группа обладает общей системой\n",
       "предпочтений?"
      ],
      "attachments":{},
      "metadata":{
       "datalore":{
        "node_id":"sGw72nuWMjo1dWZTkoRPp3",
        "type":"MD",
        "hide_input_from_viewers":true,
        "hide_output_from_viewers":true
       }
      }
     },
     {
      "cell_type":"markdown",
      "source":[
       "Воспользуемся коэффициентом конкордации Кендалла:\n",
       "$$W = \\frac{12S}{m^2(n^3 - n)}$$\n",
       "\n",
       "- $m = 3$ - количество экспертов\n",
       "- $n = 7$ - количество объектов\n",
       "- $S$ - сумма квадратов отклонений рангов объектов от их среднего ранга"
      ],
      "attachments":{},
      "metadata":{
       "datalore":{
        "node_id":"3wPu9x8rOLHATrhGCFxaF0",
        "type":"MD",
        "hide_input_from_viewers":true,
        "hide_output_from_viewers":true
       }
      }
     },
     {
      "cell_type":"markdown",
      "source":[
       "Рассчитаем сумму рангов для проектов:\n",
       "\n",
       "|   | 1 | 2 | 3 | 4 | 5 | 6 | 7 |\n",
       "|-----------|---|---|---|---|---|---|---|\n",
       "| A         | 1 | 4 | 2 | 5 | 3 | 7 | 6 |\n",
       "| B         | 2 | 1 | 3 | 4 | 5 | 6 | 7 |\n",
       "| C         | 2 | 1 | 4 | 5 | 3 | 7 | 6 |\n",
       "| A + B + C | 5 | 6 | 9 | 14 | 11 | 20 | 19 |"
      ],
      "attachments":{},
      "metadata":{
       "datalore":{
        "node_id":"yM7rsNjpm8H1DOxaFyCc7v",
        "type":"MD",
        "hide_input_from_viewers":true,
        "hide_output_from_viewers":true
       }
      }
     },
     {
      "cell_type":"markdown",
      "source":[
       "Найдем средний ранг: \n",
       "$$\\bar{R} = \\frac{m(n+1)}{2} = 12$$"
      ],
      "attachments":{},
      "metadata":{
       "datalore":{
        "node_id":"YwzoQR7Pq7S9dDIowlHneC",
        "type":"MD",
        "hide_input_from_viewers":true,
        "hide_output_from_viewers":true
       }
      }
     },
     {
      "cell_type":"markdown",
      "source":[
       "Вычислим сумму квадратов отклонений рангов объектов от их среднего ранга:\n",
       "$$S = \\sum_{i=1}^n(R_i - \\bar{R})^2 = (5−12)^2 + (6−12)^2 + (9−12)^2 + (14−12)^2 + (11−12)^2 + (20−12)^2 + (19−12)^2 = 212$$"
      ],
      "attachments":{},
      "metadata":{
       "datalore":{
        "node_id":"IjTPddym1klSIxo5RZpQAc",
        "type":"MD",
        "hide_input_from_viewers":true,
        "hide_output_from_viewers":true
       }
      }
     },
     {
      "cell_type":"markdown",
      "source":[
       "Рассчитаем $W$:\n",
       "$$W = \\frac{12S}{m^2(n^3 - n)} = \\frac{12 \\cdot 212}{3^2(7^3 - 7)} = \\frac{53}{63} \\approx 0.841$$"
      ],
      "attachments":{},
      "metadata":{
       "datalore":{
        "node_id":"05e5H8ALOqNM8qrsgTB8Ho",
        "type":"MD",
        "hide_input_from_viewers":true,
        "hide_output_from_viewers":true
       }
      }
     },
     {
      "cell_type":"code",
      "source":[
       "alpha = 0.05\n",
       "df = 6\n",
       "\n",
       "chi_crit = stats.chi2.ppf(1 - alpha, df)\n",
       "chi_crit"
      ],
      "execution_count":36,
      "outputs":[
       {
        "data":{
         "text\/plain":[
          "12.591587243743977"
         ]
        },
        "metadata":{},
        "output_type":"display_data"
       }
      ],
      "metadata":{
       "datalore":{
        "node_id":"wDaXsaXFhpqZY7EWqzZIMe",
        "type":"CODE",
        "hide_input_from_viewers":true,
        "hide_output_from_viewers":true
       }
      }
     },
     {
      "cell_type":"markdown",
      "source":[
       "Оценим значение с помощью хи-квадрат статистики:\n",
       "$$\\chi^2 = m(n - 1)W = 3(7 - 1) \\cdot \\frac{53}{63} = \\frac{106}{7} \\approx 15.14$$\n",
       "\n",
       "Критическое значение хи-квадрат статистики на уровне значимости $\\alpha = 0.05$ с $n - 1 = 6$ степенями свободы будет равно $12.592$. \n",
       "\n",
       "Так как $\\chi^2 > \\chi^2_{crit}$, мы отвергаем $H_0$ в пользу альтернативы $H_a$, что означает: данная экспертная группа обладает общей системой предпочтений."
      ],
      "attachments":{},
      "metadata":{
       "datalore":{
        "node_id":"fyRCORL15hqWzKuzzagUOt",
        "type":"MD",
        "hide_input_from_viewers":true,
        "hide_output_from_viewers":true
       }
      }
     }
    ],
    "metadata":{
     "kernelspec":{
      "display_name":"Python",
      "language":"python",
      "name":"python"
     },
     "datalore":{
      "computation_mode":"REACTIVE",
      "package_manager":"pip",
      "base_environment":"default",
      "packages":[],
      "report_row_ids":[],
      "version":3
     }
    },
    "nbformat":4,
    "nbformat_minor":4
   }